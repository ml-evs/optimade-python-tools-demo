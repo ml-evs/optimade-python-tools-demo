{
 "cells": [
  {
   "cell_type": "code",
   "execution_count": 1,
   "metadata": {
    "slideshow": {
     "slide_type": "notes"
    }
   },
   "outputs": [],
   "source": [
    "import requests\n",
    "from IPython.display import display, Markdown, JSON, SVG\n",
    "import json\n",
    "\n",
    "def get_pp(url):\n",
    "    resp = requests.get(url)\n",
    "    return display(Markdown(f\"```json\\n{json.dumps(resp.json(), indent=2)}\\n```\"), )"
   ]
  },
  {
   "cell_type": "markdown",
   "metadata": {
    "slideshow": {
     "slide_type": "slide"
    }
   },
   "source": [
    "# `optimade-python-tools`\n",
    "\n",
    "<i class=\"fa fa-github\" aria-hidden=\"true\"></i> https://github.com/Materials-Consortia/optimade-python-tools"
   ]
  },
  {
   "cell_type": "markdown",
   "metadata": {
    "cell_style": "split",
    "slideshow": {
     "slide_type": "-"
    }
   },
   "source": [
    "Active maintainers (alphabetical):\n",
    "- Casper Andersen & Matthew Evans"
   ]
  },
  {
   "cell_type": "markdown",
   "metadata": {
    "cell_style": "split",
    "slideshow": {
     "slide_type": "-"
    }
   },
   "source": [
    "Many more contributors (see [GitHub contributors](https://github.com/Materials-Consortia/optimade-python-tools/graphs/contributors)):  \n",
    "- Shyam Dwaraknath, Adam Fekete, Abhijith Gopakumar, Markus Scheidgen, Snehal Kumbhar, Fawzi Mohamed, Thomas Purcell, Leo Talirz, Donny Winston, Michael Wu"
   ]
  },
  {
   "cell_type": "markdown",
   "metadata": {
    "slideshow": {
     "slide_type": "fragment"
    }
   },
   "source": [
    "<div class=\"move_box\"><div class=\"mover\"><div class=\"spinner\"><img style=\"width: 200px; height: 200px\" src=\"./logo.png\"/></div></div></div>"
   ]
  },
  {
   "cell_type": "markdown",
   "metadata": {
    "slideshow": {
     "slide_type": "slide"
    }
   },
   "source": [
    "## What is it?\n",
    "\n",
    "- An extensible reference server implementation that uses MongoDB/`mongomock` as a backend (both regular and index meta-db servers)\n",
    "- Type-hinted Python models that describe entries and responses of an OPTIMADE-compliant API (using [`fastapi`](https://fastapi.tiangolo.com/) and [`pydantic`](https://pydantic-docs.helpmanual.io))\n",
    "- [`lark`](https://lark-parser.readthedocs.io/en/latest/)-format description of the filter language grammar with associated parsers.\n",
    "- OPTIMADE implementation validator, with associated [GitHub Action](https://github.com/Materials-Consortia/optimade-validator-action)."
   ]
  },
  {
   "cell_type": "markdown",
   "metadata": {
    "slideshow": {
     "slide_type": "fragment"
    }
   },
   "source": [
    "### Disclaimer\n",
    "\n",
    "Although we are nearly 1.0 spec compliant, the actual optimade-python-tools API will probably change and become more usable in the coming weeks/months."
   ]
  },
  {
   "cell_type": "markdown",
   "metadata": {
    "cell_style": "split",
    "slideshow": {
     "slide_type": "slide"
    }
   },
   "source": [
    "## Who/what is it for?\n",
    "\n",
    "- Database providers:\n",
    "    - New implementations\n",
    "    - Existing implementations who want a simple way of running the index meta-db\n",
    "- Specification development: \n",
    "    - Useful for quickly prototyping changes to the spec\n",
    "- Validation of existing implementations"
   ]
  },
  {
   "cell_type": "markdown",
   "metadata": {
    "cell_style": "split",
    "slideshow": {
     "slide_type": "fragment"
    }
   },
   "source": [
    "## Who is using it?\n",
    "\n",
    "- Materials Cloud: https://www.materialscloud.org/optimade\n",
    "- Materials Project: https://optimade.materialsproject.org/\n",
    "- odbx: https://optimade.odbx.science\n",
    "- NOMAD? OQMD?"
   ]
  },
  {
   "cell_type": "markdown",
   "metadata": {
    "slideshow": {
     "slide_type": "slide"
    }
   },
   "source": [
    "## Explore the GitHub:\n",
    "\n",
    "- Source: https://github.com/Materials-Consortia/optimade-python-tools\n",
    "- Docs (in progress): https://www.optimade.org/optimade-python-tools/"
   ]
  },
  {
   "cell_type": "markdown",
   "metadata": {
    "slideshow": {
     "slide_type": "slide"
    }
   },
   "source": [
    "## Anatomy of a query"
   ]
  },
  {
   "cell_type": "code",
   "execution_count": 2,
   "metadata": {
    "hide_input": false,
    "slideshow": {
     "slide_type": "-"
    }
   },
   "outputs": [
    {
     "data": {
      "image/svg+xml": [
       "<svg xmlns:dc=\"http://purl.org/dc/elements/1.1/\" xmlns:cc=\"http://creativecommons.org/ns#\" xmlns:rdf=\"http://www.w3.org/1999/02/22-rdf-syntax-ns#\" xmlns:svg=\"http://www.w3.org/2000/svg\" xmlns=\"http://www.w3.org/2000/svg\" xmlns:sodipodi=\"http://sodipodi.sourceforge.net/DTD/sodipodi-0.dtd\" xmlns:inkscape=\"http://www.inkscape.org/namespaces/inkscape\" width=\"252.02986mm\" height=\"138.03038mm\" viewBox=\"0 0 252.02986 138.03038\" version=\"1.1\" id=\"svg8\" inkscape:version=\"1.0 (4035a4fb49, 2020-05-01)\" sodipodi:docname=\"layout.svg\">\n",
       "  <defs id=\"defs2\">\n",
       "    <marker inkscape:isstock=\"true\" style=\"overflow:visible\" id=\"marker4938\" refX=\"0\" refY=\"0\" orient=\"auto\" inkscape:stockid=\"Arrow1Lend\">\n",
       "      <path transform=\"matrix(-0.8,0,0,-0.8,-10,0)\" style=\"fill:#000000;fill-opacity:1;fill-rule:evenodd;stroke:#000000;stroke-width:1pt;stroke-opacity:1\" d=\"M 0,0 5,-5 -12.5,0 5,5 Z\" id=\"path4936\"/>\n",
       "    </marker>\n",
       "    <marker inkscape:isstock=\"true\" style=\"overflow:visible\" id=\"marker4922\" refX=\"0\" refY=\"0\" orient=\"auto\" inkscape:stockid=\"Arrow1Lend\">\n",
       "      <path transform=\"matrix(-0.8,0,0,-0.8,-10,0)\" style=\"fill:#000000;fill-opacity:1;fill-rule:evenodd;stroke:#000000;stroke-width:1pt;stroke-opacity:1\" d=\"M 0,0 5,-5 -12.5,0 5,5 Z\" id=\"path4920\"/>\n",
       "    </marker>\n",
       "    <marker inkscape:stockid=\"Arrow1Lstart\" orient=\"auto\" refY=\"0\" refX=\"0\" id=\"marker3456\" style=\"overflow:visible\" inkscape:isstock=\"true\">\n",
       "      <path id=\"path3454\" d=\"M 0,0 5,-5 -12.5,0 5,5 Z\" style=\"fill:#000000;fill-opacity:1;fill-rule:evenodd;stroke:#000000;stroke-width:1pt;stroke-opacity:1\" transform=\"matrix(0.8,0,0,0.8,10,0)\"/>\n",
       "    </marker>\n",
       "    <marker inkscape:isstock=\"true\" style=\"overflow:visible\" id=\"marker3344\" refX=\"0\" refY=\"0\" orient=\"auto\" inkscape:stockid=\"Arrow1Lend\">\n",
       "      <path transform=\"matrix(-0.8,0,0,-0.8,-10,0)\" style=\"fill:#000000;fill-opacity:1;fill-rule:evenodd;stroke:#000000;stroke-width:1pt;stroke-opacity:1\" d=\"M 0,0 5,-5 -12.5,0 5,5 Z\" id=\"path3342\"/>\n",
       "    </marker>\n",
       "    <marker inkscape:stockid=\"Arrow1Lend\" orient=\"auto\" refY=\"0\" refX=\"0\" id=\"marker2922\" style=\"overflow:visible\" inkscape:isstock=\"true\" inkscape:collect=\"always\">\n",
       "      <path id=\"path2920\" d=\"M 0,0 5,-5 -12.5,0 5,5 Z\" style=\"fill:#000000;fill-opacity:1;fill-rule:evenodd;stroke:#000000;stroke-width:1pt;stroke-opacity:1\" transform=\"matrix(-0.8,0,0,-0.8,-10,0)\"/>\n",
       "    </marker>\n",
       "    <marker inkscape:isstock=\"true\" style=\"overflow:visible\" id=\"marker2832\" refX=\"0\" refY=\"0\" orient=\"auto\" inkscape:stockid=\"Arrow1Lend\">\n",
       "      <path transform=\"matrix(-0.8,0,0,-0.8,-10,0)\" style=\"fill:#000000;fill-opacity:1;fill-rule:evenodd;stroke:#000000;stroke-width:1pt;stroke-opacity:1\" d=\"M 0,0 5,-5 -12.5,0 5,5 Z\" id=\"path2830\"/>\n",
       "    </marker>\n",
       "    <marker inkscape:stockid=\"Arrow1Lend\" orient=\"auto\" refY=\"0\" refX=\"0\" id=\"marker2748\" style=\"overflow:visible\" inkscape:isstock=\"true\" inkscape:collect=\"always\">\n",
       "      <path id=\"path2746\" d=\"M 0,0 5,-5 -12.5,0 5,5 Z\" style=\"fill:#000000;fill-opacity:1;fill-rule:evenodd;stroke:#000000;stroke-width:1pt;stroke-opacity:1\" transform=\"matrix(-0.8,0,0,-0.8,-10,0)\"/>\n",
       "    </marker>\n",
       "    <marker inkscape:isstock=\"true\" style=\"overflow:visible\" id=\"marker2670\" refX=\"0\" refY=\"0\" orient=\"auto\" inkscape:stockid=\"Arrow1Lend\" inkscape:collect=\"always\">\n",
       "      <path transform=\"matrix(-0.8,0,0,-0.8,-10,0)\" style=\"fill:#000000;fill-opacity:1;fill-rule:evenodd;stroke:#000000;stroke-width:1pt;stroke-opacity:1\" d=\"M 0,0 5,-5 -12.5,0 5,5 Z\" id=\"path2668\"/>\n",
       "    </marker>\n",
       "    <marker inkscape:stockid=\"Arrow1Lend\" orient=\"auto\" refY=\"0\" refX=\"0\" id=\"marker2446\" style=\"overflow:visible\" inkscape:isstock=\"true\" inkscape:collect=\"always\">\n",
       "      <path id=\"path2444\" d=\"M 0,0 5,-5 -12.5,0 5,5 Z\" style=\"fill:#000000;fill-opacity:1;fill-rule:evenodd;stroke:#000000;stroke-width:1pt;stroke-opacity:1\" transform=\"matrix(-0.8,0,0,-0.8,-10,0)\"/>\n",
       "    </marker>\n",
       "    <marker inkscape:stockid=\"Arrow1Lend\" orient=\"auto\" refY=\"0\" refX=\"0\" id=\"marker2214\" style=\"overflow:visible\" inkscape:isstock=\"true\" inkscape:collect=\"always\">\n",
       "      <path id=\"path2212\" d=\"M 0,0 5,-5 -12.5,0 5,5 Z\" style=\"fill:#000000;fill-opacity:1;fill-rule:evenodd;stroke:#000000;stroke-width:1pt;stroke-opacity:1\" transform=\"matrix(-0.8,0,0,-0.8,-10,0)\"/>\n",
       "    </marker>\n",
       "    <marker inkscape:isstock=\"true\" style=\"overflow:visible\" id=\"marker2032\" refX=\"0\" refY=\"0\" orient=\"auto\" inkscape:stockid=\"Arrow1Lend\">\n",
       "      <path transform=\"matrix(-0.8,0,0,-0.8,-10,0)\" style=\"fill:#000000;fill-opacity:1;fill-rule:evenodd;stroke:#000000;stroke-width:1pt;stroke-opacity:1\" d=\"M 0,0 5,-5 -12.5,0 5,5 Z\" id=\"path2030\"/>\n",
       "    </marker>\n",
       "    <marker inkscape:isstock=\"true\" style=\"overflow:visible\" id=\"marker2010\" refX=\"0\" refY=\"0\" orient=\"auto\" inkscape:stockid=\"Arrow1Lend\">\n",
       "      <path transform=\"matrix(-0.8,0,0,-0.8,-10,0)\" style=\"fill:#000000;fill-opacity:1;fill-rule:evenodd;stroke:#000000;stroke-width:1pt;stroke-opacity:1\" d=\"M 0,0 5,-5 -12.5,0 5,5 Z\" id=\"path2008\"/>\n",
       "    </marker>\n",
       "    <marker inkscape:isstock=\"true\" style=\"overflow:visible\" id=\"marker1581\" refX=\"0\" refY=\"0\" orient=\"auto\" inkscape:stockid=\"Arrow1Lstart\" inkscape:collect=\"always\">\n",
       "      <path transform=\"matrix(0.8,0,0,0.8,10,0)\" style=\"fill:#000000;fill-opacity:1;fill-rule:evenodd;stroke:#000000;stroke-width:1pt;stroke-opacity:1\" d=\"M 0,0 5,-5 -12.5,0 5,5 Z\" id=\"path1579\"/>\n",
       "    </marker>\n",
       "    <marker inkscape:isstock=\"true\" style=\"overflow:visible\" id=\"Arrow1Lstart-0\" refX=\"0\" refY=\"0\" orient=\"auto\" inkscape:stockid=\"Arrow1Lstart\">\n",
       "      <path transform=\"matrix(0.8,0,0,0.8,10,0)\" style=\"fill:#000000;fill-opacity:1;fill-rule:evenodd;stroke:#000000;stroke-width:1pt;stroke-opacity:1\" d=\"M 0,0 5,-5 -12.5,0 5,5 Z\" id=\"path1153-6\"/>\n",
       "    </marker>\n",
       "    <marker inkscape:isstock=\"true\" style=\"overflow:visible\" id=\"Arrow1Lstart-6\" refX=\"0\" refY=\"0\" orient=\"auto\" inkscape:stockid=\"Arrow1Lstart\">\n",
       "      <path transform=\"matrix(0.8,0,0,0.8,10,0)\" style=\"fill:#000000;fill-opacity:1;fill-rule:evenodd;stroke:#000000;stroke-width:1pt;stroke-opacity:1\" d=\"M 0,0 5,-5 -12.5,0 5,5 Z\" id=\"path1153-1\"/>\n",
       "    </marker>\n",
       "    <marker inkscape:collect=\"always\" inkscape:isstock=\"true\" style=\"overflow:visible\" id=\"Arrow1Lend-7\" refX=\"0\" refY=\"0\" orient=\"auto\" inkscape:stockid=\"Arrow1Lend\">\n",
       "      <path transform=\"matrix(-0.8,0,0,-0.8,-10,0)\" style=\"fill:#000000;fill-opacity:1;fill-rule:evenodd;stroke:#000000;stroke-width:1pt;stroke-opacity:1\" d=\"M 0,0 5,-5 -12.5,0 5,5 Z\" id=\"path1156-9\"/>\n",
       "    </marker>\n",
       "  </defs>\n",
       "  <sodipodi:namedview id=\"base\" pagecolor=\"#ffffff\" bordercolor=\"#666666\" borderopacity=\"1.0\" inkscape:pageopacity=\"0.0\" inkscape:pageshadow=\"2\" inkscape:zoom=\"0.98994949\" inkscape:cx=\"377.19156\" inkscape:cy=\"188.10666\" inkscape:document-units=\"mm\" inkscape:current-layer=\"layer1\" inkscape:document-rotation=\"0\" showgrid=\"true\" inkscape:snap-grids=\"false\" inkscape:snap-to-guides=\"false\" inkscape:snap-others=\"false\" inkscape:snap-global=\"false\" inkscape:window-width=\"1920\" inkscape:window-height=\"1080\" inkscape:window-x=\"1920\" inkscape:window-y=\"0\" inkscape:window-maximized=\"1\">\n",
       "    <inkscape:grid type=\"xygrid\" id=\"grid833\" originx=\"-8.4959068\" originy=\"-20.812269\"/>\n",
       "  </sodipodi:namedview>\n",
       "  <metadata id=\"metadata5\">\n",
       "    <rdf:RDF>\n",
       "      <cc:Work rdf:about=\"\">\n",
       "        <dc:format>image/svg+xml</dc:format>\n",
       "        <dc:type rdf:resource=\"http://purl.org/dc/dcmitype/StillImage\"/>\n",
       "        <dc:title/>\n",
       "      </cc:Work>\n",
       "    </rdf:RDF>\n",
       "  </metadata>\n",
       "  <g inkscape:label=\"Layer 1\" inkscape:groupmode=\"layer\" id=\"layer1\" transform=\"translate(-8.4959071,-20.812269)\">\n",
       "    <rect style=\"fill:#ff6600;fill-opacity:0.151588;stroke:#000000;stroke-width:0.264999;stroke-miterlimit:4;stroke-dasharray:none\" id=\"rect3596-0-3-7-5-9-2\" width=\"83.401649\" height=\"18.522419\" x=\"176.99162\" y=\"121.82529\"/>\n",
       "    <rect y=\"73.28624\" x=\"173.44368\" height=\"33.106247\" width=\"47.244389\" id=\"rect3596-0-3-7-5-9\" style=\"fill:#ff00ff;fill-opacity:0.0713053;stroke:#000000;stroke-width:0.264999;stroke-miterlimit:4;stroke-dasharray:none\"/>\n",
       "    <rect y=\"123.16654\" x=\"18.203608\" height=\"21.237156\" width=\"61.051586\" id=\"rect3596-0-3-7\" style=\"fill:#ff00ff;fill-opacity:0.0713053;stroke:#000000;stroke-width:0.264999;stroke-miterlimit:4;stroke-dasharray:none\"/>\n",
       "    <rect y=\"151.59845\" x=\"111.06293\" height=\"7.1117029\" width=\"38.783348\" id=\"rect3596-0\" style=\"fill:#ffb380;fill-opacity:0.300824;stroke:#000000;stroke-width:0.264999;stroke-miterlimit:4;stroke-dasharray:none\"/>\n",
       "    <rect style=\"fill:#00ffff;fill-opacity:0.151588;stroke:#000000;stroke-width:0.264999;stroke-miterlimit:4;stroke-dasharray:none\" id=\"rect3596-0-3\" width=\"62.671272\" height=\"14.342044\" x=\"104.01952\" y=\"126.95363\"/>\n",
       "    <rect style=\"fill:#ff00ff;fill-opacity:0.0713053;stroke:#000000;stroke-width:0.264999;stroke-miterlimit:4;stroke-dasharray:none\" id=\"rect3596-0-3-7-5\" width=\"67.104378\" height=\"47.056179\" x=\"19.15593\" y=\"70.614563\"/>\n",
       "    <rect style=\"fill:#008000;fill-opacity:0.0713053;stroke:#000000;stroke-width:0.264999;stroke-miterlimit:4;stroke-dasharray:none\" id=\"rect3896\" width=\"227.78775\" height=\"8.9838057\" x=\"15.884789\" y=\"20.944769\"/>\n",
       "    <rect y=\"40.011532\" x=\"96.006538\" height=\"22.762102\" width=\"86.254936\" id=\"rect3596-0-3-7-5-9-2-2\" style=\"fill:#00ffff;fill-opacity:0.151588;stroke:#000000;stroke-width:0.264998;stroke-miterlimit:4;stroke-dasharray:none\"/>\n",
       "    <rect style=\"fill:#ff9955;fill-opacity:0.300824;stroke:#000000;stroke-width:0.264999;stroke-miterlimit:4;stroke-dasharray:none\" id=\"rect3596\" width=\"49.999607\" height=\"8.450861\" x=\"109.5375\" y=\"91.545837\"/>\n",
       "    <text xml:space=\"preserve\" style=\"font-size:4.9389px;line-height:1.25;font-family:'Input Mono';-inkscape-font-specification:'Input Mono';letter-spacing:0px;word-spacing:0px;stroke-width:0.264583\" x=\"113.28933\" y=\"156.83716\" id=\"text837\"><tspan sodipodi:role=\"line\" id=\"tspan835\" x=\"113.28933\" y=\"156.83716\" style=\"stroke-width:0.264583\"><tspan style=\"fill:#ff0000\" id=\"tspan909\">Entry</tspan>Mapper</tspan></text>\n",
       "    <text xml:space=\"preserve\" style=\"font-size:4.9389px;line-height:1.25;font-family:'Input Mono';-inkscape-font-specification:'Input Mono';letter-spacing:0px;word-spacing:0px;stroke-width:0.264583\" x=\"20.607231\" y=\"75.589325\" id=\"text841\"><tspan sodipodi:role=\"line\" id=\"tspan839\" x=\"20.607231\" y=\"75.589325\" style=\"stroke-width:0.264583\"><tspan style=\"fill:#008000\" id=\"tspan905\">Filter</tspan>Parser</tspan></text>\n",
       "    <text xml:space=\"preserve\" style=\"font-size:4.9389px;line-height:1.25;font-family:'Input Mono';-inkscape-font-specification:'Input Mono';letter-spacing:0px;word-spacing:0px;stroke-width:0.264583\" x=\"21.484991\" y=\"129.57349\" id=\"text845\"><tspan sodipodi:role=\"line\" id=\"tspan843\" x=\"21.484991\" y=\"129.57349\" style=\"stroke-width:0.264583\"><tspan style=\"fill:#008000\" id=\"tspan913\">Filter</tspan>Transformer</tspan></text>\n",
       "    <text xml:space=\"preserve\" style=\"font-size:4.9389px;line-height:1.25;font-family:'Input Mono';-inkscape-font-specification:'Input Mono';letter-spacing:0px;word-spacing:0px;stroke-width:0.264583\" x=\"111.23492\" y=\"97.52433\" id=\"text849\"><tspan sodipodi:role=\"line\" id=\"tspan847\" x=\"111.23492\" y=\"97.52433\" style=\"stroke-width:0.264583\"><tspan style=\"fill:#ff0000\" id=\"tspan899\">Entry</tspan>Collection</tspan></text>\n",
       "    <text xml:space=\"preserve\" style=\"font-size:4.9389px;line-height:1.25;font-family:'Input Mono';-inkscape-font-specification:'Input Mono';letter-spacing:0px;word-spacing:0px;stroke-width:0.264583\" x=\"176.16066\" y=\"79.816467\" id=\"text857\"><tspan sodipodi:role=\"line\" id=\"tspan855\" x=\"176.16066\" y=\"79.816467\" style=\"stroke-width:0.264583\"><tspan style=\"fill:#ff0000\" id=\"tspan907\">Entry</tspan>Response</tspan></text>\n",
       "    <text xml:space=\"preserve\" style=\"font-size:4.9389px;line-height:1.25;font-family:'Input Mono';-inkscape-font-specification:'Input Mono';letter-spacing:0px;word-spacing:0px;stroke-width:0.264583\" x=\"177.60539\" y=\"127.11222\" id=\"text861\"><tspan sodipodi:role=\"line\" id=\"tspan859\" x=\"177.60539\" y=\"127.11222\" style=\"stroke-width:0.264583\"><tspan style=\"fill:#ff0000\" id=\"tspan915\">Entry</tspan>Resource</tspan></text>\n",
       "    <text xml:space=\"preserve\" style=\"font-size:4.9389px;line-height:1.25;font-family:'Input Mono';-inkscape-font-specification:'Input Mono';letter-spacing:0px;word-spacing:0px;stroke-width:0.264583\" x=\"187.36354\" y=\"136.26759\" id=\"text865\"><tspan sodipodi:role=\"line\" id=\"tspan863\" x=\"187.36354\" y=\"136.26759\" style=\"stroke-width:0.264583\"><tspan style=\"fill:#ff0000\" id=\"tspan917\">Entry</tspan>ResourceAttributes</tspan></text>\n",
       "    <text xml:space=\"preserve\" style=\"font-size:4.9389px;line-height:1.25;font-family:'Input Mono';-inkscape-font-specification:'Input Mono';letter-spacing:0px;word-spacing:0px;stroke-width:0.264583\" x=\"21.073986\" y=\"26.759739\" id=\"text869\"><tspan sodipodi:role=\"line\" x=\"21.073986\" y=\"26.759739\" style=\"font-size:3.52778px;stroke-width:0.264583\" id=\"tspan881\"><tspan style=\"fill:#0000ff\" id=\"tspan883\">https://optimade.odbx.science/v0</tspan><tspan id=\"tspan897\" style=\"fill:#ff0000\">/structures</tspan><tspan style=\"fill:#008000\" id=\"tspan887\">?filter=elements HAS &quot;Na&quot;&amp;page_limit=5&amp;sort=-nelements</tspan></tspan></text>\n",
       "    <text xml:space=\"preserve\" style=\"font-size:4.9389px;line-height:1.25;font-family:'Input Mono';-inkscape-font-specification:'Input Mono';letter-spacing:0px;word-spacing:0px;stroke-width:0.264583\" x=\"98.42907\" y=\"45.794212\" id=\"text873\"><tspan sodipodi:role=\"line\" id=\"tspan871\" x=\"98.42907\" y=\"45.794212\" style=\"stroke-width:0.264583\">WSGI (uvicorn)</tspan></text>\n",
       "    <text xml:space=\"preserve\" style=\"font-size:4.9389px;line-height:1.25;font-family:'Input Mono';-inkscape-font-specification:'Input Mono';letter-spacing:0px;word-spacing:0px;stroke-width:0.264583\" x=\"98.372162\" y=\"53.030479\" id=\"text877\"><tspan sodipodi:role=\"line\" id=\"tspan875\" x=\"98.372162\" y=\"53.030479\" style=\"stroke-width:0.264583\">FastAPI Routing</tspan><tspan sodipodi:role=\"line\" x=\"98.372162\" y=\"59.204105\" style=\"stroke-width:0.264583\" id=\"tspan879\">@router.get(<tspan style=\"fill:#ff0000\" id=\"tspan891\">&quot;/structures&quot;</tspan>)</tspan></text>\n",
       "    <text xml:space=\"preserve\" style=\"font-size:4.9389px;line-height:1.25;font-family:'Input Mono';-inkscape-font-specification:'Input Mono';letter-spacing:0px;word-spacing:0px;stroke-width:0.264583\" x=\"134.74406\" y=\"133.09486\" id=\"text921\"><tspan sodipodi:role=\"line\" id=\"tspan919\" x=\"134.74406\" y=\"133.09486\" style=\"text-align:center;text-anchor:middle;stroke-width:0.264583\">Underlying Database</tspan><tspan sodipodi:role=\"line\" x=\"134.74406\" y=\"139.26849\" style=\"text-align:center;text-anchor:middle;stroke-width:0.264583\" id=\"tspan948\">e.g. MongoDB</tspan></text>\n",
       "    <text xml:space=\"preserve\" style=\"font-size:2.82222px;line-height:1.25;font-family:'Input Mono';-inkscape-font-specification:'Input Mono';letter-spacing:0px;word-spacing:0px;stroke-width:0.264583\" x=\"21.225874\" y=\"81.071022\" id=\"text970\"><tspan sodipodi:role=\"line\" id=\"tspan968\" x=\"21.225874\" y=\"81.071022\" style=\"font-size:2.82222px;fill:#008000;stroke-width:0.264583\">filter</tspan><tspan sodipodi:role=\"line\" x=\"21.225874\" y=\"84.598801\" style=\"font-size:2.82222px;fill:#008000;stroke-width:0.264583\" id=\"tspan972\">  expression</tspan><tspan sodipodi:role=\"line\" x=\"21.225874\" y=\"88.126572\" style=\"font-size:2.82222px;fill:#008000;stroke-width:0.264583\" id=\"tspan974\">    expression_clause</tspan><tspan sodipodi:role=\"line\" x=\"21.225874\" y=\"91.65435\" style=\"font-size:2.82222px;fill:#008000;stroke-width:0.264583\" id=\"tspan976\">      expression_phrase</tspan><tspan sodipodi:role=\"line\" x=\"21.225874\" y=\"95.182121\" style=\"font-size:2.82222px;fill:#008000;stroke-width:0.264583\" id=\"tspan978\">        comparison</tspan><tspan sodipodi:role=\"line\" x=\"21.225874\" y=\"98.7099\" style=\"font-size:2.82222px;fill:#008000;stroke-width:0.264583\" id=\"tspan980\">          property_first_comparison</tspan><tspan sodipodi:role=\"line\" x=\"21.225874\" y=\"102.23767\" style=\"font-size:2.82222px;fill:#008000;stroke-width:0.264583\" id=\"tspan982\">            property\telements</tspan><tspan sodipodi:role=\"line\" x=\"21.225874\" y=\"105.76545\" style=\"font-size:2.82222px;fill:#008000;stroke-width:0.264583\" id=\"tspan984\">            set_op_rhs</tspan><tspan sodipodi:role=\"line\" x=\"21.225874\" y=\"109.29322\" style=\"font-size:2.82222px;fill:#008000;stroke-width:0.264583\" id=\"tspan986\">              HAS</tspan><tspan sodipodi:role=\"line\" x=\"21.225874\" y=\"112.821\" style=\"font-size:2.82222px;fill:#008000;stroke-width:0.264583\" id=\"tspan988\">              value</tspan><tspan sodipodi:role=\"line\" x=\"21.225874\" y=\"116.34877\" style=\"font-size:2.82222px;fill:#008000;stroke-width:0.264583\" id=\"tspan990\">                string\t&quot;Na&quot;</tspan></text>\n",
       "    <text id=\"text970-7\" y=\"134.33232\" x=\"21.563984\" style=\"font-size:2.82223px;line-height:1.25;font-family:'Input Mono';-inkscape-font-specification:'Input Mono';letter-spacing:0px;word-spacing:0px;stroke-width:0.264583\" xml:space=\"preserve\"><tspan style=\"font-size:2.82223px;fill:#008000;stroke-width:0.264583\" y=\"134.33232\" x=\"21.563984\" sodipodi:role=\"line\" id=\"tspan1107\">{&quot;elements&quot;: {&quot;$in&quot;: [&quot;Na&quot;]}}</tspan></text>\n",
       "    <text xml:space=\"preserve\" style=\"font-size:2.82223px;line-height:1.25;font-family:'Input Mono';-inkscape-font-specification:'Input Mono';letter-spacing:0px;word-spacing:0px;stroke-width:0.264583\" x=\"21.46875\" y=\"140.57631\" id=\"text970-7-3\"><tspan id=\"tspan1107-6\" sodipodi:role=\"line\" x=\"21.46875\" y=\"140.57631\" style=\"font-size:2.82223px;fill:#008000;stroke-width:0.264583\">{&quot;<tspan style=\"fill:#ff0000\" id=\"tspan1147\">elems</tspan>&quot;: {&quot;$in&quot;: [&quot;Na&quot;]}}</tspan></text>\n",
       "    <path id=\"path1577-2\" d=\"M 196.32088,121.17916 V 107.95\" style=\"fill:none;stroke:#000000;stroke-width:0.264583px;stroke-linecap:butt;stroke-linejoin:miter;stroke-opacity:1;marker-end:url(#Arrow1Lend-7)\" sodipodi:nodetypes=\"cc\"/>\n",
       "    <path style=\"fill:none;stroke:#000000;stroke-width:0.264583px;stroke-linecap:butt;stroke-linejoin:miter;stroke-opacity:1;marker-end:url(#marker2032)\" d=\"M 18.418957,74.340977 C 6.8746812,82.36038 4.303491,106.95845 17.450393,123.05192\" id=\"path2196\" sodipodi:nodetypes=\"cc\"/>\n",
       "    <path style=\"fill:none;stroke:#000000;stroke-width:0.264583px;stroke-linecap:butt;stroke-linejoin:miter;stroke-opacity:1;marker-end:url(#marker2214)\" d=\"M 111.125,89.958332 C 94.293249,66.706905 60.847033,48.939628 37.041666,68.791666\" id=\"path2288\" sodipodi:nodetypes=\"cc\"/>\n",
       "    <path style=\"fill:none;stroke:#000000;stroke-width:0.264583px;stroke-linecap:butt;stroke-linejoin:miter;stroke-opacity:1;marker-start:url(#marker1581);marker-end:url(#marker2446)\" d=\"m 80.350946,140.41373 c 21.166664,0 14.160078,15.03636 30.035084,15.03636\" id=\"path2604\" sodipodi:nodetypes=\"cc\"/>\n",
       "    <path style=\"fill:none;stroke:#000000;stroke-width:0.264583px;stroke-linecap:butt;stroke-linejoin:miter;stroke-opacity:1;marker-end:url(#marker2670)\" d=\"m 80.314772,130.33903 c 11.742773,6.15114 13.194041,6.18381 22.171408,3.09324\" id=\"path2666\" sodipodi:nodetypes=\"cc\"/>\n",
       "    <path style=\"fill:none;stroke:#000000;stroke-width:0.264583px;stroke-linecap:butt;stroke-linejoin:miter;stroke-opacity:1;marker-end:url(#marker2748)\" d=\"M 129.22282,125.98567 C 128.06,117.67461 128.2405,109.16593 128.58351,101.05621\" id=\"path2744\"/>\n",
       "    <path style=\"fill:none;stroke:#000000;stroke-width:0.264583px;stroke-linecap:butt;stroke-linejoin:miter;stroke-opacity:1;marker-end:url(#marker2832)\" d=\"m 156.05913,101.53311 c 0.36656,10.01339 13.3375,13.88923 19.62006,19.25834\" id=\"path2828\" sodipodi:nodetypes=\"cc\"/>\n",
       "    <path style=\"fill:none;stroke:#000000;stroke-width:0.264583px;stroke-linecap:butt;stroke-linejoin:miter;stroke-opacity:1;marker-end:url(#marker2922)\" d=\"m 132.85494,64.407291 c -0.87049,10.813817 -1.79087,12.336403 -3.26669,22.453408\" id=\"path2918\" sodipodi:nodetypes=\"cc\"/>\n",
       "    <text xml:space=\"preserve\" style=\"font-size:2.82222px;line-height:1.25;font-family:'Input Mono';-inkscape-font-specification:'Input Mono';letter-spacing:0px;word-spacing:0px;fill:#800000;stroke-width:0.264583\" x=\"177.11032\" y=\"84.297043\" id=\"text3120\"><tspan sodipodi:role=\"line\" x=\"177.11032\" y=\"84.297043\" style=\"font-size:2.82222px;fill:#800000;stroke-width:0.264583\" id=\"tspan3122\">{</tspan><tspan sodipodi:role=\"line\" x=\"177.11032\" y=\"87.824821\" style=\"font-size:2.82222px;fill:#800000;stroke-width:0.264583\" id=\"tspan3128\">    &quot;data&quot;: [...],</tspan><tspan sodipodi:role=\"line\" x=\"177.11032\" y=\"91.352592\" style=\"font-size:2.82222px;fill:#800000;stroke-width:0.264583\" id=\"tspan3130\">    &quot;meta&quot;: {...},</tspan><tspan sodipodi:role=\"line\" x=\"177.11032\" y=\"94.880371\" style=\"font-size:2.82222px;fill:#800000;stroke-width:0.264583\" id=\"tspan3132\">    &quot;included&quot;: [...],</tspan><tspan sodipodi:role=\"line\" x=\"177.11032\" y=\"98.408142\" style=\"font-size:2.82222px;fill:#800000;stroke-width:0.264583\" id=\"tspan3136\">    &quot;links&quot;: {...}</tspan><tspan sodipodi:role=\"line\" x=\"177.11032\" y=\"101.93592\" style=\"font-size:2.82222px;fill:#800000;stroke-width:0.264583\" id=\"tspan3126\">}</tspan></text>\n",
       "    <path style=\"fill:none;stroke:#000000;stroke-width:0.264583px;stroke-linecap:butt;stroke-linejoin:miter;stroke-opacity:1;marker-start:url(#marker3456);marker-end:url(#marker3344)\" d=\"m 150.00293,155.37651 c 14.50118,-4.83135 19.87396,-2.20843 26.49859,-12.5435\" id=\"path3340\" sodipodi:nodetypes=\"cc\"/>\n",
       "    <path style=\"fill:none;stroke:#000000;stroke-width:0.265;stroke-linecap:butt;stroke-linejoin:miter;stroke-miterlimit:4;stroke-dasharray:none;stroke-opacity:1;marker-end:url(#marker2922)\" d=\"m 135.57769,30.982385 v 7.683476\" id=\"path4050\"/>\n",
       "    <path id=\"path1063\" d=\"m 181.19933,127.89315 v 6.14896 h 5.06291\" style=\"fill:none;stroke:#000000;stroke-width:0.265;stroke-linecap:butt;stroke-linejoin:miter;stroke-miterlimit:4;stroke-dasharray:none;stroke-opacity:1;marker-end:url(#marker4938)\"/>\n",
       "  </g>\n",
       "</svg>"
      ],
      "text/plain": [
       "<IPython.core.display.SVG object>"
      ]
     },
     "metadata": {},
     "output_type": "display_data"
    }
   ],
   "source": [
    "display(SVG(filename=\"./query.svg\"))"
   ]
  },
  {
   "cell_type": "markdown",
   "metadata": {
    "slideshow": {
     "slide_type": "slide"
    }
   },
   "source": [
    "## Creating a new implementation"
   ]
  },
  {
   "cell_type": "markdown",
   "metadata": {
    "slideshow": {
     "slide_type": "fragment"
    }
   },
   "source": [
    "- if you think there is a simple map* between your database and OPTIMADE properties:\n",
    "    - might be able to get away with no extra code, just configuration (see later)\n",
    "- else:\n",
    "    - custom mappers: `optimade.server.mappers.StructureMapper`"
   ]
  },
  {
   "cell_type": "markdown",
   "metadata": {
    "slideshow": {
     "slide_type": "fragment"
    }
   },
   "source": [
    "- if you're using MongoDB: \n",
    "    - hopefully you can use our transformers\n",
    "- else:\n",
    "    - inherit `optimade.server.entry_collections.EntryCollection`\n",
    "    - inherit `optimade.server.filter_transformers.BaseTransformer`"
   ]
  },
  {
   "cell_type": "markdown",
   "metadata": {
    "slideshow": {
     "slide_type": "subslide"
    }
   },
   "source": [
    "\\* simple map: field name changes, cheap operations on the underlying fields. Does not necessarily guarantee queryability!\n",
    "\n",
    "\n",
    "e.g. `\"elements\": [\"Na\", \"Cl\"]` vs `my_elements: \"Na,Cl\"`: can transform response with default `StructureMapper`, but custom filter transformer needed."
   ]
  },
  {
   "cell_type": "markdown",
   "metadata": {
    "cell_style": "split",
    "slideshow": {
     "slide_type": "slide"
    }
   },
   "source": [
    "## Advantages\n",
    "\n",
    "- Can be used to very quickly prototype an implementation, especially if already using MongoDB\n",
    "- Quirks of filtering and responses are handled automatically\n",
    "- Changes to the specification are reflected quickly by the community\n",
    "- Modularity; use the bits you need."
   ]
  },
  {
   "cell_type": "markdown",
   "metadata": {
    "cell_style": "split",
    "slideshow": {
     "slide_type": "slide"
    }
   },
   "source": [
    "# Drawbacks\n",
    "- Without the underlying fields in the database, mapping responses is often easy, but mapping *queries* can be very difficult.\n",
    "    - specification currently mandates all standardized properties must be queryable\n",
    "- New backends with a great deal of customisation require more work, but hopefully still less than starting from scratch\n",
    "- Scalability: as Shyam mentioned. How many implementations can handle the load of MP/NOMAD/COD?"
   ]
  },
  {
   "cell_type": "markdown",
   "metadata": {
    "cell_style": "split",
    "slideshow": {
     "slide_type": "slide"
    }
   },
   "source": [
    "## Pydantic models\n",
    "\n",
    "- Type-hinted Python classes for with validators that define an OpenAPI schema:\n",
    "    - entries\n",
    "    - responses\n",
    "    - requests"
   ]
  },
  {
   "cell_type": "markdown",
   "metadata": {
    "cell_style": "split",
    "slideshow": {
     "slide_type": "slide"
    }
   },
   "source": [
    "## Lark grammar\n",
    "\n",
    "- Rewritten by Adam after the last workshop\n",
    "- Handles everything in the specification, with a relatively easy interface to define a new transformer"
   ]
  },
  {
   "cell_type": "markdown",
   "metadata": {
    "slideshow": {
     "slide_type": "slide"
    }
   },
   "source": [
    "## Intra-resource property queries\n",
    "\n",
    "- Length aliases:\n",
    "    - Perform OPTIMADE `LENGTH` query indirectly using a second field, e.g. `LENGTH species_at_sites > 2 -> nsites > 2`\n"
   ]
  },
  {
   "cell_type": "markdown",
   "metadata": {
    "slideshow": {
     "slide_type": "slide"
    }
   },
   "source": [
    "## Upcoming features\n",
    "\n",
    "- Documentation"
   ]
  },
  {
   "cell_type": "markdown",
   "metadata": {
    "slideshow": {
     "slide_type": "slide"
    }
   },
   "source": [
    "## Plans for CECAM workshop 2021\n",
    "\n",
    "- Improve documentation and general usability, bug fixes\n",
    "- Get feedback and get new implementations and contributors involved [GitHub \"good first issue\"](https://github.com/Materials-Consortia/optimade-python-tools/issues?q=is%3Aopen+is%3Aissue+label%3A%22good+first+issue%22)\n",
    "- Implement new/suggested features suggested for 1.1 to get instant implementation feedback\n",
    "- Help people get started and discuss future of the project (Room 2)\n",
    "\n",
    "## Contributing\n",
    "\n",
    "- Make sure you're in the Materials Consortia GitHub organization\n",
    "- Raise issues to discuss what you are planning to do (or comment on an existing issue indicating that you want to work on it)\n",
    "- Push a feature branch to the main repository and make a pull request! "
   ]
  },
  {
   "cell_type": "markdown",
   "metadata": {
    "slideshow": {
     "slide_type": "slide"
    }
   },
   "source": [
    "# `optimade-python-tools` Demos "
   ]
  },
  {
   "cell_type": "markdown",
   "metadata": {
    "slideshow": {
     "slide_type": "slide"
    }
   },
   "source": [
    "# Configuration-only implementation from reference"
   ]
  },
  {
   "cell_type": "markdown",
   "metadata": {
    "slideshow": {
     "slide_type": "-"
    }
   },
   "source": [
    "Example config: https://github.com/Materials-Consortia/optimade-python-tools/blob/master/docs/static/default_config.json"
   ]
  },
  {
   "cell_type": "markdown",
   "metadata": {
    "slideshow": {
     "slide_type": "fragment"
    }
   },
   "source": [
    "```json\n",
    "{\n",
    "    \"config_file\": \"~/.optimade.json\",\n",
    "    \"debug\": false,\n",
    "    \"insert_test_data\": true,\n",
    "    \"mongo_database\": \"optimade\",\n",
    "    \"mongo_uri\": \"localhost:27017\",\n",
    "    \"links_collection\": \"links\",\n",
    "    \"references_collection\": \"references\",\n",
    "    \"structures_collection\": \"structures\",\n",
    "    \"page_limit\": 20,\n",
    "    \"page_limit_max\": 500,\n",
    "    \"default_db\": \"test_server\",\n",
    "    \"base_url\": null,\n",
    "    \"implementation\": {\n",
    "        \"name\": \"OPTIMADE Python Tools\",\n",
    "        \"version\": \"0.15.0\",\n",
    "        \"source_url\": \"https://github.com/Materials-Consortia/optimade-python-tools\",\n",
    "        \"maintainer\": {\"email\": \"dev@optimade.org\"}\n",
    "    },\n",
    "    \"index_base_url\": null,\n",
    "    \"provider\": {\n",
    "        \"name\": \"Example provider\",\n",
    "        \"description\": \"Provider used for examples, not to be assigned to a real database\",\n",
    "        \"prefix\": \"exmpl\",\n",
    "        \"homepage\": \"https://example.com\"\n",
    "    },\n",
    "    \"provider_fields\": {},\n",
    "    \"aliases\": {},\n",
    "    \"length_aliases\": {},\n",
    "    \"index_links_path\": \"./optimade/server/index_links.json\",\n",
    "    \"log_level\": \"info\",\n",
    "    \"log_dir\": \"/var/log/optimade/\"\n",
    "}\n",
    "```"
   ]
  },
  {
   "cell_type": "markdown",
   "metadata": {
    "slideshow": {
     "slide_type": "slide"
    }
   },
   "source": [
    "Example structure:"
   ]
  },
  {
   "cell_type": "code",
   "execution_count": null,
   "metadata": {},
   "outputs": [],
   "source": []
  },
  {
   "cell_type": "code",
   "execution_count": 3,
   "metadata": {
    "slideshow": {
     "slide_type": "-"
    }
   },
   "outputs": [
    {
     "name": "stdout",
     "output_type": "stream",
     "text": [
      "[\r\n",
      "  {\r\n",
      "    \"dimension_types\": [1, 1, 1],\r\n",
      "    \"nperiodic_dimensions\": 3,\r\n",
      "    \"elements\": [\"Ac\"],\r\n",
      "    \"elements_ratios\": [1.0],\r\n",
      "    \"formula_anonymous\": \"A\",\r\n",
      "    \"last_modified\": {\"$date\": \"2019-06-08T05:13:37.331Z\"},\r\n",
      "    \"lattice_vectors\": [\r\n",
      "        [1.2503264826932692, 0.0, 0.0],\r\n",
      "        [0.0, 9.8885097163217651, 0.0],\r\n",
      "        [0.0, 0.0, 10.972637673241818]\r\n",
      "    ],\r\n",
      "    \"nelements\": 1,\r\n",
      "    \"pretty_formula\": \"Ac\",\r\n",
      "    \"species\": [{\"chemical_symbols\": [\"Ac\"], \"concentration\": [1.0], \"name\": \"Ac\"}],\r\n",
      "    \"species_at_sites\": [\"Ac\"],\r\n",
      "    \"relationships\": {\"references\": {\"data\": [{\"type\": \"references\", \"id\": \"dijkstra1968\"}]}},\r\n",
      "    \"structure_features\": [],\r\n",
      "    \"num_atoms\": 1,\r\n",
      "    \"positions_cart\": [[0.0, 1.0, 2.0]],\r\n",
      "    \"chemsys\": \"Ac\",\r\n",
      "    \"task_id\": \"mpf_1\",\r\n",
      "    \"band_gap\": 1.23,\r\n",
      "    \"_id\": {\r\n",
      "      \"$oid\": \"5cfb441f053b174410700d02\"\r\n",
      "    }\r\n",
      "  }\r\n",
      "]\r\n"
     ]
    }
   ],
   "source": [
    "!cat structures.json"
   ]
  },
  {
   "cell_type": "markdown",
   "metadata": {
    "slideshow": {
     "slide_type": "slide"
    }
   },
   "source": [
    "# Extending the pydantic models and app code"
   ]
  },
  {
   "cell_type": "code",
   "execution_count": 4,
   "metadata": {
    "code_folding": [],
    "slideshow": {
     "slide_type": "subslide"
    }
   },
   "outputs": [],
   "source": [
    "from pydantic import Field, validator\n",
    "from typing import Dict, List\n",
    "from optimade.models import StructureResourceAttributes, StructureResource\n",
    "from optimade.server.mappers import StructureMapper\n",
    "\n",
    "class MyStructureResourceAttributes(StructureResourceAttributes):\n",
    "    \n",
    "    entropy: float = Field(\n",
    "        ..., description=\"Entropic contribution to total energy\"\n",
    "    )\n",
    "    pseudopotentials: Dict[str, str] = Field(\n",
    "        ..., description=\"The pseudopotentials used for each species in the calculation\"\n",
    "    )\n",
    "    \n",
    "    @validator(\"entropy\")\n",
    "    def check_entropy(cls, v):\n",
    "        assert v >= 0.0, \"warning: 2nd law of thermodynamics broken\"\n",
    "        \n",
    "class MyStructureResource(StructureResource):\n",
    "    \n",
    "    attributes: MyStructureResourceAttributes\n",
    "        \n",
    "class MyStructureMapper(StructureMapper):\n",
    "   \n",
    "    PROVIDER_FIELDS = {\"entropy\", \"pseudopotentials\"}\n",
    "    \n",
    "    def map_back(*args, **kwargs): \n",
    "        doc = super().map_back(*args, **kwargs)\n",
    "        doc['chemical_formula_anonymous'] = form2anon(doc['chemical_formula_reduced'])"
   ]
  },
  {
   "cell_type": "code",
   "execution_count": 5,
   "metadata": {
    "slideshow": {
     "slide_type": "subslide"
    }
   },
   "outputs": [],
   "source": [
    "import datetime\n",
    "na_cl = MyStructureResourceAttributes(\n",
    "    lattice_vectors=[[4, 4, 0], [4, 0, 4], [0, 4, 4]],\n",
    "    last_modified=datetime.datetime.now(),\n",
    "    elements=[\"Cl\", \"Na\"],\n",
    "    nelements=2,\n",
    "    elements_ratios=[0.5, 0.5],\n",
    "    chemical_formula_descriptive=\"ClNa\",\n",
    "    chemical_formula_anonymous=\"AB\",\n",
    "    chemical_formula_reduced=\"ClNa\",\n",
    "    dimension_types=(1, 1, 1),\n",
    "    nperiodic_dimensions=3,\n",
    "    nsites=2,\n",
    "    cartesian_site_positions=((0, 0, 0), (2, 2, 2)),\n",
    "    species_at_sites=[\"Na\", \"Cl\"],\n",
    "    species=[{\"name\": \"Na\", \"chemical_symbols\": [\"Na\"], \"concentration\": [1]},\n",
    "             {\"name\": \"Cl\", \"chemical_symbols\": [\"Cl\"], \"concentration\": [1]}\n",
    "            ],\n",
    "    structure_features=[],\n",
    "    entropy=10,\n",
    "    pseudopotentials={\"Na\": \"Na.usp\", \"Cl\": \"Cl.usp\"}\n",
    ")"
   ]
  },
  {
   "cell_type": "code",
   "execution_count": 6,
   "metadata": {
    "scrolled": true,
    "slideshow": {
     "slide_type": "subslide"
    }
   },
   "outputs": [
    {
     "data": {
      "text/plain": [
       "{'title': 'MyStructureResourceAttributes',\n",
       " 'description': 'This class contains the Field for the attributes used to represent a structure, e.g. unit cell, atoms, positions.',\n",
       " 'type': 'object',\n",
       " 'properties': {'immutable_id': {'title': 'Immutable Id',\n",
       "   'description': 'The entry\\'s immutable ID (e.g., an UUID). This is important for databases having preferred IDs that point to \"the latest version\" of a record, but still offer access to older variants. This ID maps to the version-specific record, in case it changes in the future.\\n\\n- **Type**: string.\\n\\n- **Requirements/Conventions**:\\n    - **Support**: OPTIONAL support in implementations, i.e., MAY be `null`.\\n    - **Query**: MUST be a queryable property with support for all mandatory filter features.\\n\\n- **Examples**:\\n    - `\"8bd3e750-b477-41a0-9b11-3a799f21b44f\"`\\n    - `\"fjeiwoj,54;@=%<>#32\"` (Strings that are not URL-safe are allowed.)',\n",
       "   'queryable': <SupportLevel.MUST: 'must'>,\n",
       "   'support': <SupportLevel.OPTIONAL: 'optional'>,\n",
       "   'type': 'string'},\n",
       "  'last_modified': {'title': 'Last Modified',\n",
       "   'description': 'Date and time representing when the entry was last modified.\\n\\n- **Type**: timestamp.\\n\\n- **Requirements/Conventions**:\\n    - **Support**: SHOULD be supported by all implementations, i.e., SHOULD NOT be `null`.\\n    - **Query**: MUST be a queryable property with support for all mandatory filter features.\\n    - **Response**: REQUIRED in the response unless the query parameter `response_fields` is present and does not include this property.\\n\\n- **Example**:\\n    - As part of JSON response format: `\"2007-04-05T14:30:20Z\"` (i.e., encoded as an [RFC 3339 Internet Date/Time Format](https://tools.ietf.org/html/rfc3339#section-5.6) string.)',\n",
       "   'queryable': <SupportLevel.MUST: 'must'>,\n",
       "   'support': <SupportLevel.SHOULD: 'should'>,\n",
       "   'type': 'string',\n",
       "   'format': 'date-time',\n",
       "   'nullable': True},\n",
       "  'elements': {'title': 'Elements',\n",
       "   'description': 'Names of the different elements present in the structure.\\n\\n- **Type**: list of strings.\\n\\n- **Requirements/Conventions**:\\n    - **Support**: SHOULD be supported by all implementations, i.e., SHOULD NOT be `null`.\\n    - **Query**: MUST be a queryable property with support for all mandatory filter features.\\n    - The strings are the chemical symbols, i.e., either a single uppercase letter or an uppercase letter followed by a number of lowercase letters.\\n    - The order MUST be alphabetical.\\n    - Note: This property SHOULD NOT contain the string \"X\" to indicate non-chemical elements or \"vacancy\" to indicate vacancies (in contrast to the field `chemical_symbols` for the `species` property).\\n\\n- **Examples**:\\n    - `[\"Si\"]`\\n    - `[\"Al\",\"O\",\"Si\"]`\\n\\n- **Query examples**:\\n    - A filter that matches all records of structures that contain Si, Al **and** O, and possibly other elements: `elements HAS ALL \"Si\", \"Al\", \"O\"`.\\n    - To match structures with exactly these three elements, use `elements HAS ALL \"Si\", \"Al\", \"O\" AND elements LENGTH 3`.',\n",
       "   'queryable': <SupportLevel.MUST: 'must'>,\n",
       "   'support': <SupportLevel.SHOULD: 'should'>,\n",
       "   'type': 'array',\n",
       "   'items': {'type': 'string'},\n",
       "   'nullable': True},\n",
       "  'nelements': {'title': 'Nelements',\n",
       "   'description': 'Number of different elements in the structure as an integer.\\n\\n- **Type**: integer\\n\\n- **Requirements/Conventions**:\\n    - **Support**: SHOULD be supported by all implementations, i.e., SHOULD NOT be `null`.\\n    - **Query**: MUST be a queryable property with support for all mandatory filter features.\\n\\n- **Examples**:\\n    - `3`\\n\\n- **Querying**:\\n    - Note: queries on this property can equivalently be formulated using `elements LENGTH`.\\n    - A filter that matches structures that have exactly 4 elements: `nelements=4`.\\n    - A filter that matches structures that have between 2 and 7 elements: `nelements>=2 AND nelements<=7`.',\n",
       "   'queryable': <SupportLevel.MUST: 'must'>,\n",
       "   'support': <SupportLevel.SHOULD: 'should'>,\n",
       "   'type': 'integer',\n",
       "   'nullable': True},\n",
       "  'elements_ratios': {'title': 'Elements Ratios',\n",
       "   'description': 'Relative proportions of different elements in the structure.\\n\\n- **Type**: list of floats\\n\\n- **Requirements/Conventions**:\\n    - **Support**: SHOULD be supported by all implementations, i.e., SHOULD NOT be `null`.\\n    - **Query**: MUST be a queryable property with support for all mandatory filter features.\\n    - Composed by the proportions of elements in the structure as a list of floating point numbers.\\n    - The sum of the numbers MUST be 1.0 (within floating point accuracy)\\n\\n- **Examples**:\\n    - `[1.0]`\\n    - `[0.3333333333333333, 0.2222222222222222, 0.4444444444444444]`\\n\\n- **Query examples**:\\n    - Note: Useful filters can be formulated using the set operator syntax for correlated values.\\n      However, since the values are floating point values, the use of equality comparisons is generally inadvisable.\\n    - OPTIONAL: a filter that matches structures where approximately 1/3 of the atoms in the structure are the element Al is: `elements:elements_ratios HAS ALL \"Al\":>0.3333, \"Al\":<0.3334`.',\n",
       "   'queryable': <SupportLevel.MUST: 'must'>,\n",
       "   'support': <SupportLevel.SHOULD: 'should'>,\n",
       "   'type': 'array',\n",
       "   'items': {'type': 'number'},\n",
       "   'nullable': True},\n",
       "  'chemical_formula_descriptive': {'title': 'Chemical Formula Descriptive',\n",
       "   'description': 'The chemical formula for a structure as a string in a form chosen by the API implementation.\\n\\n- **Type**: string\\n\\n- **Requirements/Conventions**:\\n    - **Support**: SHOULD be supported by all implementations, i.e., SHOULD NOT be `null`.\\n    - **Query**: MUST be a queryable property with support for all mandatory filter features.\\n    - The chemical formula is given as a string consisting of properly capitalized element symbols followed by integers or decimal numbers, balanced parentheses, square, and curly brackets `(`,`)`, `[`,`]`, `{`, `}`, commas, the `+`, `-`, `:` and `=` symbols. The parentheses are allowed to be followed by a number. Spaces are allowed anywhere except within chemical symbols. The order of elements and any groupings indicated by parentheses or brackets are chosen freely by the API implementation.\\n    - The string SHOULD be arithmetically consistent with the element ratios in the `chemical_formula_reduced` property.\\n    - It is RECOMMENDED, but not mandatory, that symbols, parentheses and brackets, if used, are used with the meanings prescribed by [IUPAC\\'s Nomenclature of Organic Chemistry](https://www.qmul.ac.uk/sbcs/iupac/bibliog/blue.html).\\n\\n- **Examples**:\\n    - `\"(H2O)2 Na\"`\\n    - `\"NaCl\"`\\n    - `\"CaCO3\"`\\n    - `\"CCaO3\"`\\n    - `\"(CH3)3N+ - [CH2]2-OH = Me3N+ - CH2 - CH2OH\"`\\n\\n- **Query examples**:\\n    - Note: the free-form nature of this property is likely to make queries on it across different databases inconsistent.\\n    - A filter that matches an exactly given formula: `chemical_formula_descriptive=\"(H2O)2 Na\"`.\\n    - A filter that does a partial match: `chemical_formula_descriptive CONTAINS \"H2O\"`.',\n",
       "   'queryable': <SupportLevel.MUST: 'must'>,\n",
       "   'support': <SupportLevel.SHOULD: 'should'>,\n",
       "   'type': 'string',\n",
       "   'nullable': True},\n",
       "  'chemical_formula_reduced': {'title': 'Chemical Formula Reduced',\n",
       "   'description': 'The reduced chemical formula for a structure as a string with element symbols and integer chemical proportion numbers.\\nThe proportion number MUST be omitted if it is 1.\\n\\n- **Type**: string\\n\\n- **Requirements/Conventions**:\\n    - **Support**: SHOULD be supported by all implementations, i.e., SHOULD NOT be `null`.\\n    - **Query**: MUST be a queryable property.\\n      However, support for filters using partial string matching with this property is OPTIONAL (i.e., BEGINS WITH, ENDS WITH, and CONTAINS).\\n      Intricate queries on formula components are instead suggested to be formulated using set-type filter operators on the multi valued `elements` and `elements_ratios` properties.\\n    - Element names MUST have proper capitalization (e.g., `\"Si\"`, not `\"SI\"` for \"silicon\").\\n    - Elements MUST be placed in alphabetical order, followed by their integer chemical proportion number.\\n    - For structures with no partial occupation, the chemical proportion numbers are the smallest integers for which the chemical proportion is exactly correct.\\n    - For structures with partial occupation, the chemical proportion numbers are integers that within reasonable approximation indicate the correct chemical proportions. The precise details of how to perform the rounding is chosen by the API implementation.\\n    - No spaces or separators are allowed.\\n\\n- **Examples**:\\n    - `\"H2NaO\"`\\n    - `\"ClNa\"`\\n    - `\"CCaO3\"`\\n\\n- **Query examples**:\\n    - A filter that matches an exactly given formula is `chemical_formula_reduced=\"H2NaO\"`.',\n",
       "   'pattern': '^([A-Z][a-z]?\\\\d*)*$',\n",
       "   'queryable': <SupportLevel.MUST: 'must'>,\n",
       "   'support': <SupportLevel.SHOULD: 'should'>,\n",
       "   'type': 'string',\n",
       "   'nullable': True},\n",
       "  'chemical_formula_hill': {'title': 'Chemical Formula Hill',\n",
       "   'description': 'The chemical formula for a structure in [Hill form](https://dx.doi.org/10.1021/ja02046a005) with element symbols followed by integer chemical proportion numbers. The proportion number MUST be omitted if it is 1.\\n\\n- **Type**: string\\n\\n- **Requirements/Conventions**:\\n    - **Support**: OPTIONAL support in implementations, i.e., MAY be `null`.\\n    - **Query**: Support for queries on this property is OPTIONAL.\\n      If supported, only a subset of the filter features MAY be supported.\\n    - The overall scale factor of the chemical proportions is chosen such that the resulting values are integers that indicate the most chemically relevant unit of which the system is composed.\\n      For example, if the structure is a repeating unit cell with four hydrogens and four oxygens that represents two hydroperoxide molecules, `chemical_formula_hill` is `\"H2O2\"` (i.e., not `\"HO\"`, nor `\"H4O4\"`).\\n    - If the chemical insight needed to ascribe a Hill formula to the system is not present, the property MUST be handled as unset.\\n    - Element names MUST have proper capitalization (e.g., `\"Si\"`, not `\"SI\"` for \"silicon\").\\n    - Elements MUST be placed in [Hill order](https://dx.doi.org/10.1021/ja02046a005), followed by their integer chemical proportion number.\\n      Hill order means: if carbon is present, it is placed first, and if also present, hydrogen is placed second.\\n      After that, all other elements are ordered alphabetically.\\n      If carbon is not present, all elements are ordered alphabetically.\\n    - If the system has sites with partial occupation and the total occupations of each element do not all sum up to integers, then the Hill formula SHOULD be handled as unset.\\n    - No spaces or separators are allowed.\\n\\n- **Examples**:\\n    - `\"H2O2\"`\\n\\n- **Query examples**:\\n    - A filter that matches an exactly given formula is `chemical_formula_hill=\"H2O2\"`.',\n",
       "   'pattern': '^([A-Z][a-z]?\\\\d*)*$',\n",
       "   'queryable': <SupportLevel.OPTIONAL: 'optional'>,\n",
       "   'support': <SupportLevel.OPTIONAL: 'optional'>,\n",
       "   'type': 'string'},\n",
       "  'chemical_formula_anonymous': {'title': 'Chemical Formula Anonymous',\n",
       "   'description': 'The anonymous formula is the `chemical_formula_reduced`, but where the elements are instead first ordered by their chemical proportion number, and then, in order left to right, replaced by anonymous symbols A, B, C, ..., Z, Aa, Ba, ..., Za, Ab, Bb, ... and so on.\\n\\n- **Type**: string\\n\\n- **Requirements/Conventions**:\\n    - **Support**: SHOULD be supported by all implementations, i.e., SHOULD NOT be `null`.\\n    - **Query**: MUST be a queryable property.\\n      However, support for filters using partial string matching with this property is OPTIONAL (i.e., BEGINS WITH, ENDS WITH, and CONTAINS).\\n\\n- **Examples**:\\n    - `\"A2B\"`\\n    - `\"A42B42C16D12E10F9G5\"`\\n\\n- **Querying**:\\n    - A filter that matches an exactly given formula is `chemical_formula_anonymous=\"A2B\"`.',\n",
       "   'pattern': '^([A-Z][a-z]?\\\\d*)*$',\n",
       "   'queryable': <SupportLevel.MUST: 'must'>,\n",
       "   'support': <SupportLevel.SHOULD: 'should'>,\n",
       "   'type': 'string',\n",
       "   'nullable': True},\n",
       "  'dimension_types': {'title': 'Dimension Types',\n",
       "   'description': 'List of three integers.\\nFor each of the three directions indicated by the three lattice vectors (see property `lattice_vectors`), this list indicates if the direction is periodic (value `1`) or non-periodic (value `0`).\\nNote: the elements in this list each refer to the direction of the corresponding entry in `lattice_vectors` and *not* the Cartesian x, y, z directions.\\n\\n- **Type**: list of integers.\\n\\n- **Requirements/Conventions**:\\n    - **Support**: SHOULD be supported by all implementations, i.e., SHOULD NOT be `null`.\\n    - **Query**: Support for queries on this property is OPTIONAL.\\n    - MUST be a list of length 3.\\n    - Each integer element MUST assume only the value 0 or 1.\\n\\n- **Examples**:\\n    - For a molecule: `[0, 0, 0]`\\n    - For a wire along the direction specified by the third lattice vector: `[0, 0, 1]`\\n    - For a 2D surface/slab, periodic on the plane defined by the first and third lattice vectors: `[1, 0, 1]`\\n    - For a bulk 3D system: `[1, 1, 1]`',\n",
       "   'queryable': <SupportLevel.OPTIONAL: 'optional'>,\n",
       "   'support': <SupportLevel.SHOULD: 'should'>,\n",
       "   'type': 'array',\n",
       "   'items': {'$ref': '#/definitions/Periodicity'},\n",
       "   'minItems': 3,\n",
       "   'maxItems': 3,\n",
       "   'nullable': True},\n",
       "  'nperiodic_dimensions': {'title': 'Nperiodic Dimensions',\n",
       "   'description': 'An integer specifying the number of periodic dimensions in the structure, equivalent to the number of non-zero entries in `dimension_types`.\\n\\n- **Type**: integer\\n\\n- **Requirements/Conventions**:\\n    - **Support**: SHOULD be supported by all implementations, i.e., SHOULD NOT be `null`.\\n    - **Query**: MUST be a queryable property with support for all mandatory filter features.\\n    - The integer value MUST be between 0 and 3 inclusive and MUST be equal to the sum of the items in the `dimension_types` property.\\n    - This property only reflects the treatment of the lattice vectors provided for the structure, and not any physical interpretation of the dimensionality of its contents.\\n\\n- **Examples**:\\n    - `2` should be indicated in cases where `dimension_types` is any of `[1, 1, 0]`, `[1, 0, 1]`, `[0, 1, 1]`.\\n\\n- **Query examples**:\\n    - Match only structures with exactly 3 periodic dimensions: `nperiodic_dimensions=3`\\n    - Match all structures with 2 or fewer periodic dimensions: `nperiodic_dimensions<=2`',\n",
       "   'queryable': <SupportLevel.MUST: 'must'>,\n",
       "   'support': <SupportLevel.SHOULD: 'should'>,\n",
       "   'type': 'integer',\n",
       "   'nullable': True},\n",
       "  'lattice_vectors': {'title': 'Lattice Vectors',\n",
       "   'description': \"The three lattice vectors in Cartesian coordinates, in ångström (Å).\\n\\n- **Type**: list of list of floats or unknown values.\\n\\n- **Requirements/Conventions**:\\n    - **Support**: SHOULD be supported by all implementations, i.e., SHOULD NOT be `null`.\\n    - **Query**: Support for queries on this property is OPTIONAL.\\n      If supported, filters MAY support only a subset of comparison operators.\\n    - MUST be a list of three vectors *a*, *b*, and *c*, where each of the vectors MUST BE a list of the vector's coordinates along the x, y, and z Cartesian coordinates.\\n      (Therefore, the first index runs over the three lattice vectors and the second index runs over the x, y, z Cartesian coordinates).\\n    - For databases that do not define an absolute Cartesian system (e.g., only defining the length and angles between vectors), the first lattice vector SHOULD be set along *x* and the second on the *xy*-plane.\\n    - MUST always contain three vectors of three coordinates each, independently of the elements of property `dimension_types`.\\n      The vectors SHOULD by convention be chosen so the determinant of the `lattice_vectors` matrix is different from zero.\\n      The vectors in the non-periodic directions have no significance beyond fulfilling these requirements.\\n    - The coordinates of the lattice vectors of non-periodic dimensions (i.e., those dimensions for which `dimension_types` is `0`) MAY be given as a list of all `null` values.\\n        If a lattice vector contains the value `null`, all coordinates of that lattice vector MUST be `null`.\\n\\n- **Examples**:\\n    - `[[4.0,0.0,0.0],[0.0,4.0,0.0],[0.0,1.0,4.0]]` represents a cell, where the first vector is `(4, 0, 0)`, i.e., a vector aligned along the `x` axis of length 4 Å; the second vector is `(0, 4, 0)`; and the third vector is `(0, 1, 4)`.\",\n",
       "   'unit': 'Å',\n",
       "   'queryable': <SupportLevel.OPTIONAL: 'optional'>,\n",
       "   'support': <SupportLevel.SHOULD: 'should'>,\n",
       "   'minItems': 3,\n",
       "   'maxItems': 3,\n",
       "   'type': 'array',\n",
       "   'items': {'type': 'array',\n",
       "    'items': {'type': 'number'},\n",
       "    'minItems': 3,\n",
       "    'maxItems': 3},\n",
       "   'nullable': True},\n",
       "  'cartesian_site_positions': {'title': 'Cartesian Site Positions',\n",
       "   'description': 'Cartesian positions of each site in the structure.\\nA site is usually used to describe positions of atoms; what atoms can be encountered at a given site is conveyed by the `species_at_sites` property, and the species themselves are described in the `species` property.\\n\\n- **Type**: list of list of floats\\n\\n- **Requirements/Conventions**:\\n    - **Support**: SHOULD be supported by all implementations, i.e., SHOULD NOT be `null`.\\n    - **Query**: Support for queries on this property is OPTIONAL.\\n      If supported, filters MAY support only a subset of comparison operators.\\n    - It MUST be a list of length equal to the number of sites in the structure, where every element is a list of the three Cartesian coordinates of a site expressed as float values in the unit angstrom (Å).\\n    - An entry MAY have multiple sites at the same Cartesian position (for a relevant use of this, see e.g., the property `assemblies`).\\n\\n- **Examples**:\\n    - `[[0,0,0],[0,0,2]]` indicates a structure with two sites, one sitting at the origin and one along the (positive) *z*-axis, 2 Å away from the origin.',\n",
       "   'unit': 'Å',\n",
       "   'queryable': <SupportLevel.OPTIONAL: 'optional'>,\n",
       "   'support': <SupportLevel.SHOULD: 'should'>,\n",
       "   'type': 'array',\n",
       "   'items': {'type': 'array',\n",
       "    'items': {'type': 'number'},\n",
       "    'minItems': 3,\n",
       "    'maxItems': 3},\n",
       "   'nullable': True},\n",
       "  'nsites': {'title': 'Nsites',\n",
       "   'description': 'An integer specifying the length of the `cartesian_site_positions` property.\\n\\n- **Type**: integer\\n\\n- **Requirements/Conventions**:\\n    - **Support**: SHOULD be supported by all implementations, i.e., SHOULD NOT be `null`.\\n    - **Query**: MUST be a queryable property with support for all mandatory filter features.\\n\\n- **Examples**:\\n    - `42`\\n\\n- **Query examples**:\\n    - Match only structures with exactly 4 sites: `nsites=4`\\n    - Match structures that have between 2 and 7 sites: `nsites>=2 AND nsites<=7`',\n",
       "   'queryable': <SupportLevel.MUST: 'must'>,\n",
       "   'support': <SupportLevel.SHOULD: 'should'>,\n",
       "   'type': 'integer',\n",
       "   'nullable': True},\n",
       "  'species': {'title': 'Species',\n",
       "   'description': 'A list describing the species of the sites of this structure.\\nSpecies can represent pure chemical elements, virtual-crystal atoms representing a statistical occupation of a given site by multiple chemical elements, and/or a location to which there are attached atoms, i.e., atoms whose precise location are unknown beyond that they are attached to that position (frequently used to indicate hydrogen atoms attached to another element, e.g., a carbon with three attached hydrogens might represent a methyl group, -CH3).\\n\\n- **Type**: list of dictionary with keys:\\n    - `name`: string (REQUIRED)\\n    - `chemical_symbols`: list of strings (REQUIRED)\\n    - `concentration`: list of float (REQUIRED)\\n    - `attached`: list of strings (REQUIRED)\\n    - `nattached`: list of integers (OPTIONAL)\\n    - `mass`: list of floats (OPTIONAL)\\n    - `original_name`: string (OPTIONAL).\\n\\n- **Requirements/Conventions**:\\n    - **Support**: SHOULD be supported by all implementations, i.e., SHOULD NOT be `null`.\\n    - **Query**: Support for queries on this property is OPTIONAL.\\n        If supported, filters MAY support only a subset of comparison operators.\\n    - Each list member MUST be a dictionary with the following keys:\\n        - **name**: REQUIRED; gives the name of the species; the **name** value MUST be unique in the `species` list;\\n        - **chemical_symbols**: REQUIRED; MUST be a list of strings of all chemical elements composing this species.\\n          Each item of the list MUST be one of the following:\\n            - a valid chemical-element name, or\\n            - the special value `\"X\"` to represent a non-chemical element, or\\n            - the special value `\"vacancy\"` to represent that this site has a non-zero probability of having a vacancy (the respective probability is indicated in the `concentration` list, see below).\\n\\n          If any one entry in the `species` list has a `chemical_symbols` list that is longer than 1 element, the correct flag MUST be set in the list `structure_features`.\\n\\n        - **concentration**: REQUIRED; MUST be a list of floats, with same length as `chemical_symbols`.\\n          The numbers represent the relative concentration of the corresponding chemical symbol in this species.\\n          The numbers SHOULD sum to one. Cases in which the numbers do not sum to one typically fall only in the following two categories:\\n\\n            - Numerical errors when representing float numbers in fixed precision, e.g. for two chemical symbols with concentrations `1/3` and `2/3`, the concentration might look something like `[0.33333333333, 0.66666666666]`. If the client is aware that the sum is not one because of numerical precision, it can renormalize the values so that the sum is exactly one.\\n            - Experimental errors in the data present in the database. In this case, it is the responsibility of the client to decide how to process the data.\\n\\n            Note that concentrations are uncorrelated between different sites (even of the same species).\\n\\n        - **attached**: OPTIONAL; if provided MUST be a list of length 1 or more of strings of chemical symbols for the elements attached to this site, or \"X\" for a non-chemical element.\\n\\n        - **nattached**: OPTIONAL; if provided MUST be a list of length 1 or more of integers indicating the number of attached atoms of the kind specified in the value of the `attached` key.\\n\\n          The implementation MUST include either both or none of the `attached` and `nattached` keys, and if they are provided, they MUST be of the same length.\\n          Furthermore, if they are provided, the `structure_features` property MUST include the string `site_attachments`.\\n\\n        - **mass**: OPTIONAL. If present MUST be a list of floats, with the same length as `chemical_symbols`, providing element masses expressed in a.m.u.\\n          Elements denoting vacancies MUST have masses equal to 0.\\n\\n        - **original_name**: OPTIONAL. Can be any valid Unicode string, and SHOULD contain (if specified) the name of the species that is used internally in the source database.\\n\\n          Note: With regards to \"source database\", we refer to the immediate source being queried via the OPTIMADE API implementation.\\n\\n          The main use of this field is for source databases that use species names, containing characters that are not allowed (see description of the list property `species_at_sites`).\\n\\n    - For systems that have only species formed by a single chemical symbol, and that have at most one species per chemical symbol, SHOULD use the chemical symbol as species name (e.g., `\"Ti\"` for titanium, `\"O\"` for oxygen, etc.)\\n      However, note that this is OPTIONAL, and client implementations MUST NOT assume that the key corresponds to a chemical symbol, nor assume that if the species name is a valid chemical symbol, that it represents a species with that chemical symbol.\\n      This means that a species `{\"name\": \"C\", \"chemical_symbols\": [\"Ti\"], \"concentration\": [1.0]}` is valid and represents a titanium species (and *not* a carbon species).\\n    - It is NOT RECOMMENDED that a structure includes species that do not have at least one corresponding site.\\n\\n- **Examples**:\\n    - `[ {\"name\": \"Ti\", \"chemical_symbols\": [\"Ti\"], \"concentration\": [1.0]} ]`: any site with this species is occupied by a Ti atom.\\n    - `[ {\"name\": \"Ti\", \"chemical_symbols\": [\"Ti\", \"vacancy\"], \"concentration\": [0.9, 0.1]} ]`: any site with this species is occupied by a Ti atom with 90 % probability, and has a vacancy with 10 % probability.\\n    - `[ {\"name\": \"BaCa\", \"chemical_symbols\": [\"vacancy\", \"Ba\", \"Ca\"], \"concentration\": [0.05, 0.45, 0.5], \"mass\": [0.0, 137.327, 40.078]} ]`: any site with this species is occupied by a Ba atom with 45 % probability, a Ca atom with 50 % probability, and by a vacancy with 5 % probability. The mass of this site is (on average) 88.5 a.m.u.\\n    - `[ {\"name\": \"C12\", \"chemical_symbols\": [\"C\"], \"concentration\": [1.0], \"mass\": [12.0]} ]`: any site with this species is occupied by a carbon isotope with mass 12.\\n    - `[ {\"name\": \"C13\", \"chemical_symbols\": [\"C\"], \"concentration\": [1.0], \"mass\": [13.0]} ]`: any site with this species is occupied by a carbon isotope with mass 13.\\n    - `[ {\"name\": \"CH3\", \"chemical_symbols\": [\"C\"], \"concentration\": [1.0], \"attached\": [\"H\"], \"nattached\": [3]} ]`: any site with this species is occupied by a methyl group, -CH3, which is represented without specifying precise positions of the hydrogen atoms.',\n",
       "   'queryable': <SupportLevel.OPTIONAL: 'optional'>,\n",
       "   'support': <SupportLevel.SHOULD: 'should'>,\n",
       "   'type': 'array',\n",
       "   'items': {'$ref': '#/definitions/Species'},\n",
       "   'nullable': True},\n",
       "  'species_at_sites': {'title': 'Species At Sites',\n",
       "   'description': 'Name of the species at each site (where values for sites are specified with the same order of the property `cartesian_site_positions`).\\nThe properties of the species are found in the property `species`.\\n\\n- **Type**: list of strings.\\n\\n- **Requirements/Conventions**:\\n    - **Support**: SHOULD be supported by all implementations, i.e., SHOULD NOT be `null`.\\n    - **Query**: Support for queries on this property is OPTIONAL.\\n      If supported, filters MAY support only a subset of comparison operators.\\n    - MUST have length equal to the number of sites in the structure (first dimension of the list property `cartesian_site_positions`).\\n    - Each species name mentioned in the `species_at_sites` list MUST be described in the list property `species` (i.e. for each value in the `species_at_sites` list there MUST exist exactly one dictionary in the `species` list with the `name` attribute equal to the corresponding `species_at_sites` value).\\n    - Each site MUST be associated only to a single species.\\n      **Note**: However, species can represent mixtures of atoms, and multiple species MAY be defined for the same chemical element.\\n      This latter case is useful when different atoms of the same type need to be grouped or distinguished, for instance in simulation codes to assign different initial spin states.\\n\\n- **Examples**:\\n    - `[\"Ti\",\"O2\"]` indicates that the first site is hosting a species labeled `\"Ti\"` and the second a species labeled `\"O2\"`.\\n    - `[\"Ac\", \"Ac\", \"Ag\", \"Ir\"]` indicating the first two sites contains the `\"Ac\"` species, while the third and fourth sites contain the `\"Ag\"` and `\"Ir\"` species, respectively.',\n",
       "   'queryable': <SupportLevel.OPTIONAL: 'optional'>,\n",
       "   'support': <SupportLevel.SHOULD: 'should'>,\n",
       "   'type': 'array',\n",
       "   'items': {'type': 'string'},\n",
       "   'nullable': True},\n",
       "  'assemblies': {'title': 'Assemblies',\n",
       "   'description': 'A description of groups of sites that are statistically correlated.\\n\\n- **Type**: list of dictionary with keys:\\n    - `sites_in_groups`: list of list of integers (REQUIRED)\\n    - `group_probabilities`: list of floats (REQUIRED)\\n\\n- **Requirements/Conventions**:\\n    - **Support**: OPTIONAL support in implementations, i.e., MAY be `null`.\\n    - **Query**: Support for queries on this property is OPTIONAL.\\n        If supported, filters MAY support only a subset of comparison operators.\\n    - The property SHOULD be `null` for entries that have no partial occupancies.\\n    - If present, the correct flag MUST be set in the list `structure_features`.\\n    - Client implementations MUST check its presence (as its presence changes the interpretation of the structure).\\n    - If present, it MUST be a list of dictionaries, each of which represents an assembly and MUST have the following two keys:\\n        - **sites_in_groups**: Index of the sites (0-based) that belong to each group for each assembly.\\n\\n            Example: `[[1], [2]]`: two groups, one with the second site, one with the third.\\n            Example: `[[1,2], [3]]`: one group with the second and third site, one with the fourth.\\n\\n        - **group_probabilities**: Statistical probability of each group. It MUST have the same length as `sites_in_groups`.\\n            It SHOULD sum to one.\\n            See below for examples of how to specify the probability of the occurrence of a vacancy.\\n            The possible reasons for the values not to sum to one are the same as already specified above for the `concentration` of each `species`.\\n\\n    - If a site is not present in any group, it means that it is present with 100 % probability (as if no assembly was specified).\\n    - A site MUST NOT appear in more than one group.\\n\\n- **Examples** (for each entry of the assemblies list):\\n    - `{\"sites_in_groups\": [[0], [1]], \"group_probabilities: [0.3, 0.7]}`: the first site and the second site never occur at the same time in the unit cell.\\n        Statistically, 30 % of the times the first site is present, while 70 % of the times the second site is present.\\n    - `{\"sites_in_groups\": [[1,2], [3]], \"group_probabilities: [0.3, 0.7]}`: the second and third site are either present together or not present; they form the first group of atoms for this assembly.\\n        The second group is formed by the fourth site.\\n        Sites of the first group (the second and the third) are never present at the same time as the fourth site.\\n        30 % of times sites 1 and 2 are present (and site 3 is absent); 70 % of times site 3 is present (and sites 1 and 2 are absent).\\n\\n- **Notes**:\\n    - Assemblies are essential to represent, for instance, the situation where an atom can statistically occupy two different positions (sites).\\n\\n    - By defining groups, it is possible to represent, e.g., the case where a functional molecule (and not just one atom) is either present or absent (or the case where it it is present in two conformations)\\n\\n    - Considerations on virtual alloys and on vacancies: In the special case of a virtual alloy, these specifications allow two different, equivalent ways of specifying them.\\n        For instance, for a site at the origin with 30 % probability of being occupied by Si, 50 % probability of being occupied by Ge, and 20 % of being a vacancy, the following two representations are possible:\\n\\n        - Using a single species:\\n            ```json\\n            {\\n              \"cartesian_site_positions\": [[0,0,0]],\\n              \"species_at_sites\": [\"SiGe-vac\"],\\n              \"species\": [\\n              {\\n                \"name\": \"SiGe-vac\",\\n                \"chemical_symbols\": [\"Si\", \"Ge\", \"vacancy\"],\\n                \"concentration\": [0.3, 0.5, 0.2]\\n              }\\n              ]\\n              // ...\\n            }\\n            ```\\n\\n        - Using multiple species and the assemblies:\\n            ```json\\n            {\\n              \"cartesian_site_positions\": [ [0,0,0], [0,0,0], [0,0,0] ],\\n              \"species_at_sites\": [\"Si\", \"Ge\", \"vac\"],\\n              \"species\": [\\n                { \"name\": \"Si\", \"chemical_symbols\": [\"Si\"], \"concentration\": [1.0] },\\n                { \"name\": \"Ge\", \"chemical_symbols\": [\"Ge\"], \"concentration\": [1.0] },\\n                { \"name\": \"vac\", \"chemical_symbols\": [\"vacancy\"], \"concentration\": [1.0] }\\n              },\\n              \"assemblies\": [\\n                {\\n              \"sites_in_groups\": [ [0], [1], [2] ],\\n              \"group_probabilities\": [0.3, 0.5, 0.2]\\n                }\\n              ]\\n              // ...\\n            }\\n            ```\\n\\n    - It is up to the database provider to decide which representation to use, typically depending on the internal format in which the structure is stored.\\n        However, given a structure identified by a unique ID, the API implementation MUST always provide the same representation for it.\\n\\n    - The probabilities of occurrence of different assemblies are uncorrelated.\\n        So, for instance in the following case with two assemblies:\\n        ```json\\n        {\\n          \"assemblies\": [\\n            {\\n              \"sites_in_groups\": [ [0], [1] ],\\n              \"group_probabilities\": [0.2, 0.8],\\n            },\\n            {\\n              \"sites_in_groups\": [ [2], [3] ],\\n              \"group_probabilities\": [0.3, 0.7]\\n            }\\n          ]\\n        }\\n        ```\\n\\n        Site 0 is present with a probability of 20 % and site 1 with a probability of 80 %. These two sites are correlated (either site 0 or 1 is present). Similarly, site 2 is present with a probability of 30 % and site 3 with a probability of 70 %.\\n        These two sites are correlated (either site 2 or 3 is present).\\n        However, the presence or absence of sites 0 and 1 is not correlated with the presence or absence of sites 2 and 3 (in the specific example, the pair of sites (0, 2) can occur with 0.2*0.3 = 6 % probability; the pair (0, 3) with 0.2*0.7 = 14 % probability; the pair (1, 2) with 0.8*0.3 = 24 % probability; and the pair (1, 3) with 0.8*0.7 = 56 % probability).',\n",
       "   'queryable': <SupportLevel.OPTIONAL: 'optional'>,\n",
       "   'support': <SupportLevel.OPTIONAL: 'optional'>,\n",
       "   'type': 'array',\n",
       "   'items': {'$ref': '#/definitions/Assembly'}},\n",
       "  'structure_features': {'title': 'Structure Features',\n",
       "   'description': 'A list of strings that flag which special features are used by the structure.\\n\\n- **Type**: list of strings\\n\\n- **Requirements/Conventions**:\\n    - **Support**: MUST be supported by all implementations, MUST NOT be `null`.\\n    - **Query**: MUST be a queryable property.\\n    Filters on the list MUST support all mandatory HAS-type queries.\\n    Filter operators for comparisons on the string components MUST support equality, support for other comparison operators are OPTIONAL.\\n    - MUST be an empty list if no special features are used.\\n    - MUST be sorted alphabetically.\\n    - If a special feature listed below is used, the list MUST contain the corresponding string.\\n    - If a special feature listed below is not used, the list MUST NOT contain the corresponding string.\\n    - **List of strings used to indicate special structure features**:\\n        - `disorder`: this flag MUST be present if any one entry in the `species` list has a `chemical_symbols` list that is longer than 1 element.\\n        - `implicit_atoms`: this flag MUST be present if the structure contains atoms that are not assigned to sites via the property `species_at_sites` (e.g., because their positions are unknown).\\n           When this flag is present, the properties related to the chemical formula will likely not match the type and count of atoms represented by the `species_at_sites`, `species` and `assemblies` properties.\\n        - `site_attachments`: this flag MUST be present if any one entry in the `species` list includes `attached` and `nattached`.\\n        - `assemblies`: this flag MUST be present if the property `assemblies` is present.\\n\\n- **Examples**: A structure having implicit atoms and using assemblies: `[\"assemblies\", \"implicit_atoms\"]`',\n",
       "   'queryable': <SupportLevel.MUST: 'must'>,\n",
       "   'support': <SupportLevel.MUST: 'must'>,\n",
       "   'type': 'array',\n",
       "   'items': {'$ref': '#/definitions/StructureFeatures'}},\n",
       "  'entropy': {'title': 'Entropy',\n",
       "   'description': 'Entropic contribution to total energy',\n",
       "   'type': 'number'},\n",
       "  'pseudopotentials': {'title': 'Pseudopotentials',\n",
       "   'description': 'The pseudopotentials used for each species in the calculation',\n",
       "   'type': 'object',\n",
       "   'additionalProperties': {'type': 'string'}}},\n",
       " 'required': ['last_modified',\n",
       "  'elements',\n",
       "  'nelements',\n",
       "  'elements_ratios',\n",
       "  'chemical_formula_descriptive',\n",
       "  'chemical_formula_reduced',\n",
       "  'chemical_formula_anonymous',\n",
       "  'dimension_types',\n",
       "  'nperiodic_dimensions',\n",
       "  'lattice_vectors',\n",
       "  'cartesian_site_positions',\n",
       "  'nsites',\n",
       "  'species',\n",
       "  'species_at_sites',\n",
       "  'structure_features',\n",
       "  'entropy',\n",
       "  'pseudopotentials'],\n",
       " 'definitions': {'Periodicity': {'title': 'Periodicity',\n",
       "   'description': 'Integer enumeration of dimension_types values',\n",
       "   'enum': [0, 1],\n",
       "   'type': 'integer'},\n",
       "  'Species': {'title': 'Species',\n",
       "   'description': 'A list describing the species of the sites of this structure.\\n\\nSpecies can represent pure chemical elements, virtual-crystal atoms representing a\\nstatistical occupation of a given site by multiple chemical elements, and/or a\\nlocation to which there are attached atoms, i.e., atoms whose precise location are\\nunknown beyond that they are attached to that position (frequently used to indicate\\nhydrogen atoms attached to another element, e.g., a carbon with three attached\\nhydrogens might represent a methyl group, -CH3).\\n\\n- **Examples**:\\n    - `[ {\"name\": \"Ti\", \"chemical_symbols\": [\"Ti\"], \"concentration\": [1.0]} ]`: any site with this species is occupied by a Ti atom.\\n    - `[ {\"name\": \"Ti\", \"chemical_symbols\": [\"Ti\", \"vacancy\"], \"concentration\": [0.9, 0.1]} ]`: any site with this species is occupied by a Ti atom with 90 % probability, and has a vacancy with 10 % probability.\\n    - `[ {\"name\": \"BaCa\", \"chemical_symbols\": [\"vacancy\", \"Ba\", \"Ca\"], \"concentration\": [0.05, 0.45, 0.5], \"mass\": [0.0, 137.327, 40.078]} ]`: any site with this species is occupied by a Ba atom with 45 % probability, a Ca atom with 50 % probability, and by a vacancy with 5 % probability. The mass of this site is (on average) 88.5 a.m.u.\\n    - `[ {\"name\": \"C12\", \"chemical_symbols\": [\"C\"], \"concentration\": [1.0], \"mass\": [12.0]} ]`: any site with this species is occupied by a carbon isotope with mass 12.\\n    - `[ {\"name\": \"C13\", \"chemical_symbols\": [\"C\"], \"concentration\": [1.0], \"mass\": [13.0]} ]`: any site with this species is occupied by a carbon isotope with mass 13.\\n    - `[ {\"name\": \"CH3\", \"chemical_symbols\": [\"C\"], \"concentration\": [1.0], \"attached\": [\"H\"], \"nattached\": [3]} ]`: any site with this species is occupied by a methyl group, -CH3, which is represented without specifying precise positions of the hydrogen atoms.',\n",
       "   'type': 'object',\n",
       "   'properties': {'name': {'title': 'Name',\n",
       "     'description': 'Gives the name of the species; the **name** value MUST be unique in the `species` list.',\n",
       "     'queryable': <SupportLevel.OPTIONAL: 'optional'>,\n",
       "     'support': <SupportLevel.MUST: 'must'>,\n",
       "     'type': 'string'},\n",
       "    'chemical_symbols': {'title': 'Chemical Symbols',\n",
       "     'description': 'MUST be a list of strings of all chemical elements composing this species. Each item of the list MUST be one of the following:\\n\\n- a valid chemical-element name, or\\n- the special value `\"X\"` to represent a non-chemical element, or\\n- the special value `\"vacancy\"` to represent that this site has a non-zero probability of having a vacancy (the respective probability is indicated in the `concentration` list, see below).\\n\\nIf any one entry in the `species` list has a `chemical_symbols` list that is longer than 1 element, the correct flag MUST be set in the list `structure_features`.',\n",
       "     'queryable': <SupportLevel.OPTIONAL: 'optional'>,\n",
       "     'support': <SupportLevel.MUST: 'must'>,\n",
       "     'type': 'array',\n",
       "     'items': {'type': 'string'}},\n",
       "    'concentration': {'title': 'Concentration',\n",
       "     'description': 'MUST be a list of floats, with same length as `chemical_symbols`. The numbers represent the relative concentration of the corresponding chemical symbol in this species. The numbers SHOULD sum to one. Cases in which the numbers do not sum to one typically fall only in the following two categories:\\n\\n- Numerical errors when representing float numbers in fixed precision, e.g. for two chemical symbols with concentrations `1/3` and `2/3`, the concentration might look something like `[0.33333333333, 0.66666666666]`. If the client is aware that the sum is not one because of numerical precision, it can renormalize the values so that the sum is exactly one.\\n- Experimental errors in the data present in the database. In this case, it is the responsibility of the client to decide how to process the data.\\n\\nNote that concentrations are uncorrelated between different site (even of the same species).',\n",
       "     'queryable': <SupportLevel.OPTIONAL: 'optional'>,\n",
       "     'support': <SupportLevel.MUST: 'must'>,\n",
       "     'type': 'array',\n",
       "     'items': {'type': 'number'}},\n",
       "    'mass': {'title': 'Mass',\n",
       "     'description': 'If present MUST be a list of floats expressed in a.m.u.\\nElements denoting vacancies MUST have masses equal to 0.',\n",
       "     'unit': 'a.m.u.',\n",
       "     'queryable': <SupportLevel.OPTIONAL: 'optional'>,\n",
       "     'support': <SupportLevel.OPTIONAL: 'optional'>,\n",
       "     'type': 'array',\n",
       "     'items': {'type': 'number'}},\n",
       "    'original_name': {'title': 'Original Name',\n",
       "     'description': 'Can be any valid Unicode string, and SHOULD contain (if specified) the name of the species that is used internally in the source database.\\n\\nNote: With regards to \"source database\", we refer to the immediate source being queried via the OPTIMADE API implementation.',\n",
       "     'queryable': <SupportLevel.OPTIONAL: 'optional'>,\n",
       "     'support': <SupportLevel.OPTIONAL: 'optional'>,\n",
       "     'type': 'string'},\n",
       "    'attached': {'title': 'Attached',\n",
       "     'description': 'If provided MUST be a list of length 1 or more of strings of chemical symbols for the elements attached to this site, or \"X\" for a non-chemical element.',\n",
       "     'queryable': <SupportLevel.OPTIONAL: 'optional'>,\n",
       "     'support': <SupportLevel.OPTIONAL: 'optional'>,\n",
       "     'type': 'array',\n",
       "     'items': {'type': 'string'}},\n",
       "    'nattached': {'title': 'Nattached',\n",
       "     'description': 'If provided MUST be a list of length 1 or more of integers indicating the number of attached atoms of the kind specified in the value of the :field:`attached` key.',\n",
       "     'queryable': <SupportLevel.OPTIONAL: 'optional'>,\n",
       "     'support': <SupportLevel.OPTIONAL: 'optional'>,\n",
       "     'type': 'array',\n",
       "     'items': {'type': 'integer'}}},\n",
       "   'required': ['name', 'chemical_symbols', 'concentration']},\n",
       "  'Assembly': {'title': 'Assembly',\n",
       "   'description': 'A description of groups of sites that are statistically correlated.\\n\\n- **Examples** (for each entry of the assemblies list):\\n    - `{\"sites_in_groups\": [[0], [1]], \"group_probabilities: [0.3, 0.7]}`: the first site and the second site never occur at the same time in the unit cell.\\n      Statistically, 30 % of the times the first site is present, while 70 % of the times the second site is present.\\n    - `{\"sites_in_groups\": [[1,2], [3]], \"group_probabilities: [0.3, 0.7]}`: the second and third site are either present together or not present; they form the first group of atoms for this assembly.\\n      The second group is formed by the fourth site. Sites of the first group (the second and the third) are never present at the same time as the fourth site.\\n      30 % of times sites 1 and 2 are present (and site 3 is absent); 70 % of times site 3 is present (and sites 1 and 2 are absent).',\n",
       "   'type': 'object',\n",
       "   'properties': {'sites_in_groups': {'title': 'Sites In Groups',\n",
       "     'description': 'Index of the sites (0-based) that belong to each group for each assembly.\\n\\n- **Examples**:\\n    - `[[1], [2]]`: two groups, one with the second site, one with the third.\\n    - `[[1,2], [3]]`: one group with the second and third site, one with the fourth.',\n",
       "     'queryable': <SupportLevel.OPTIONAL: 'optional'>,\n",
       "     'support': <SupportLevel.MUST: 'must'>,\n",
       "     'type': 'array',\n",
       "     'items': {'type': 'array', 'items': {'type': 'integer'}}},\n",
       "    'group_probabilities': {'title': 'Group Probabilities',\n",
       "     'description': 'Statistical probability of each group. It MUST have the same length as `sites_in_groups`.\\nIt SHOULD sum to one.\\nSee below for examples of how to specify the probability of the occurrence of a vacancy.\\nThe possible reasons for the values not to sum to one are the same as already specified above for the `concentration` of each `species`.',\n",
       "     'queryable': <SupportLevel.OPTIONAL: 'optional'>,\n",
       "     'support': <SupportLevel.MUST: 'must'>,\n",
       "     'type': 'array',\n",
       "     'items': {'type': 'number'}}},\n",
       "   'required': ['sites_in_groups', 'group_probabilities']},\n",
       "  'StructureFeatures': {'title': 'StructureFeatures',\n",
       "   'description': 'Enumeration of structure_features values',\n",
       "   'enum': ['disorder', 'implicit_atoms', 'site_attachments', 'assemblies']}}}"
      ]
     },
     "execution_count": 6,
     "metadata": {},
     "output_type": "execute_result"
    }
   ],
   "source": [
    "na_cl.schema()"
   ]
  },
  {
   "cell_type": "markdown",
   "metadata": {
    "cell_style": "center",
    "slideshow": {
     "slide_type": "slide"
    }
   },
   "source": [
    "## Case study: [`optimade.odbx.science`](https://optimade.odbx.science)"
   ]
  },
  {
   "cell_type": "markdown",
   "metadata": {
    "slideshow": {
     "slide_type": "-"
    }
   },
   "source": [
    "https://github.com/ml-evs/odbx.science\n",
    "\n",
    "- `optimade-python-tools` powers both REST API and HTML (with Jinja2)\n",
    "    - (gunicorn, nginx, MongoDB)\n",
    "- new database curated from existing JSON using `EntryMapper.map_back(...)`."
   ]
  },
  {
   "cell_type": "markdown",
   "metadata": {
    "slideshow": {
     "slide_type": "slide"
    }
   },
   "source": [
    "## Case study: [`aiida-optimade`](https://github.com/aiidateam/aiida-optimade/)"
   ]
  },
  {
   "cell_type": "markdown",
   "metadata": {
    "slideshow": {
     "slide_type": "-"
    }
   },
   "source": [
    "https://github.com/aiidateam/aiida-optimade/\n",
    "- `optimade-python-tools` powers REST API of multiple child databases using the reference server as a template\n",
    "- Does not use MongoDB: has a custom filter transformer and entry collection that converts to AiiDA's internal querying model."
   ]
  }
 ],
 "metadata": {
  "celltoolbar": "Slideshow",
  "kernelspec": {
   "display_name": "Python [conda env:optimade_demo] *",
   "language": "python",
   "name": "conda-env-optimade_demo-py"
  },
  "language_info": {
   "codemirror_mode": {
    "name": "ipython",
    "version": 3
   },
   "file_extension": ".py",
   "mimetype": "text/x-python",
   "name": "python",
   "nbconvert_exporter": "python",
   "pygments_lexer": "ipython3",
   "version": "3.8.10"
  },
  "rise": {
   "autolaunch": true,
   "enable_chalkboard": true,
   "theme": "simple",
   "width": "75%"
  }
 },
 "nbformat": 4,
 "nbformat_minor": 4
}
